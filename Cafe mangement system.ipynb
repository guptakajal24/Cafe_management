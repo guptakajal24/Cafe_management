{
 "cells": [
  {
   "cell_type": "code",
   "execution_count": 4,
   "id": "be42e102-68d0-46d4-b3b0-bb12e5c3fe46",
   "metadata": {},
   "outputs": [
    {
     "name": "stdout",
     "output_type": "stream",
     "text": [
      "Welcome to payooo Hotel\n",
      "pizza: Rs129\n",
      "samosa: Rs120\n",
      "kajukatri: Rs800\n",
      "chamcham: Rs90\n",
      "tripal rice: Rs150\n",
      "Water botel : Rs20\n"
     ]
    },
    {
     "name": "stdin",
     "output_type": "stream",
     "text": [
      " Enter the Name of item you Want To Order = pizza\n"
     ]
    },
    {
     "name": "stdout",
     "output_type": "stream",
     "text": [
      "Your Item {item_1} has been added to your order\n"
     ]
    },
    {
     "name": "stdin",
     "output_type": "stream",
     "text": [
      "do you want to add another item?(Yes/ No) yes\n",
      "Enter the Name of Second Item = kajukatri\n"
     ]
    },
    {
     "name": "stdout",
     "output_type": "stream",
     "text": [
      "itemkajukatri has been added to order\n",
      "the total amount of items to pay  is 929\n"
     ]
    }
   ],
   "source": [
    "menu ={\n",
    "    'pizza':129,\n",
    "    'samosa':120,\n",
    "    'kajukatri':800,\n",
    "    'chamcham':90,\n",
    "    'tripal rice':150,\n",
    "    'Water botel' :20,\n",
    "\n",
    "}\n",
    "\n",
    "print(\"Welcome to payooo Hotel\")\n",
    "print(\"pizza: Rs129\\nsamosa: Rs120\\nkajukatri: Rs800\\nchamcham: Rs90\\ntripal rice: Rs150\\nWater botel : Rs20\")\n",
    "\n",
    "order_total=0\n",
    "#80+70=150\n",
    "\n",
    "item_1 =input(\" Enter the Name of item you Want To Order =\")\n",
    "if item_1 in  menu:\n",
    "    order_total += menu[item_1] #0+15\n",
    "    print(\"Your Item {item_1} has been added to your order\")\n",
    "\n",
    "else:\n",
    "    print(\"oredred item {item_1} is not available you\")\n",
    "\n",
    "another_order = input(\"do you want to add another item?(Yes/ No)\")\n",
    "if another_order == \"yes\":\n",
    "    item_2 = input(\"Enter the Name of Second Item =\")\n",
    "    if item_2 in menu:\n",
    "        order_total +=menu[item_2]\n",
    "        print( f\"item{item_2} has been added to order\")\n",
    "    else:\n",
    "        print(f\"Ordered item {item_2} is not avaialable!\")\n",
    "\n",
    "print(f\"the total amount of items to pay  is {order_total}\")"
   ]
  },
  {
   "cell_type": "code",
   "execution_count": null,
   "id": "124a306d-d1c0-40ac-bc26-fc2f209ee1f4",
   "metadata": {},
   "outputs": [],
   "source": []
  }
 ],
 "metadata": {
  "kernelspec": {
   "display_name": "Python 3 (ipykernel)",
   "language": "python",
   "name": "python3"
  },
  "language_info": {
   "codemirror_mode": {
    "name": "ipython",
    "version": 3
   },
   "file_extension": ".py",
   "mimetype": "text/x-python",
   "name": "python",
   "nbconvert_exporter": "python",
   "pygments_lexer": "ipython3",
   "version": "3.11.7"
  }
 },
 "nbformat": 4,
 "nbformat_minor": 5
}
